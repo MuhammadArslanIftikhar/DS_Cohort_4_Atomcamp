# **EDA: Covid Clinical Trials**
## Author: Muhammad Arslan Iftikhar
### Introduction to Exploratory Data Analysis (EDA)
  Exploratory Data Analysis (EDA) is a crucial step in the data science process that involves gaining a deep understanding of the data at hand. It goes beyond simply applying machine learning models and focuses on thoroughly exploring and understanding the nature of the data.

 By conducting EDA, data scientists "feel" the data, examining its characteristics, patterns, and distributions. This process allows us to uncover insights, identify potential issues, and make informed decisions about data preprocessing, feature engineering, and model selection.

**The primary objective of EDA is to answer fundamental questions about the data:**

**How does the data look?**
EDA helps us visualize and understand the overall structure and composition of the data. This includes examining the dimensions, shape, and basic statistical properties like mean, median, and standard deviation. By visualizing the data, we can identify outliers, anomalies, and potential data quality issues.

**What does the data contain?**
EDA allows us to delve into the content of the data and understand the variables or features present. This involves analyzing the data types, distributions, and relationships between variables. By identifying the different types of data present, such as numerical, categorical, or textual, we can tailor our analysis and preprocessing techniques accordingly.
# importing libraries
import pandas as pd
import numpy as np
# loading data into a dataframe.
df = pd.read_csv('Covid_clinical_trials.csv')
# shape of our data set.
df.shape
# Insight_01:
    1. Our data consists of 5783 observations and it contains 27 features.
# identifying column names.
df.columns
#### 1. Explore the dataset by checking shape, columns, and see the first/last 'n' rows using  head/tail. (n= 5,15,30) 
# printing first "5" rows of the data.
df.head(5)
## printing first "15" rows of the data.
df.head(15)
# printing first "30" rows of the data.
df.head(30)
# displaying "5" rows from bottom.
df.tail(5)
# displaying "15" rows from bottom.
df.tail(15)
# displaying "30" rows from bottom.
df.tail(30)
#### 2. Extract and document key insights by exploring column data types and applying info and  describe.
# Insight_02:    
        1. df.info():
        This function is used to described the data types of the dataset. e.g Our dataset contains of total 27 features from which "25" are object data type , "1" is of float and "1" is of int.
df.info()
#### 2. df.describe():
      This function describes the whole summary statistics of our dataset's column which have numeric data types e.g(int,float).
      - This function tells us that we have total count in "Rank" is "5783".
      - Mean of "Rank" is 2892.0.
      - Standard Deviation of "Rank" is "1669.55".
      - Minimum of "Rank" is "1.0".
 
      It also tells about the 25%, 50%, 75%, and maximum value. It also tells us about all these information for Feature named "Enrollment".
# summary statistics of dataset.
df.describe()
#### 3. Determine the missing values in the whole dataset and analyze missing values in each  column. 
# finding missing values.
df.isnull()
# count of missing values across all features.
df.isnull().sum()
# % of missing values.
df.isnull().mean()*100
4. Calculate the sum of duplicate rows 
# finding duplicate values.
df.duplicated()
# sum of duplicate values.
df.duplicated().sum()
# Count of studies grouped by study phases
df.groupby('Phases').size().reset_index(name='No. of Effecties')
# Count of studies grouped by gender
df.groupby('Gender').size().reset_index(name='No. of Effecties')
# Total enrollment for each study type
df.groupby('Study Type')['Enrollment'].sum().reset_index(name='Total_Enrollment')
# Count of studies grouped by sponsor/organization
df.groupby('Sponsor/Collaborators').size().reset_index(name='StudyCount')
# What is the average enrollment for studies of different study designs?
df.groupby('Study Designs')['Enrollment'].mean().reset_index(name='AverageEnrollment')
