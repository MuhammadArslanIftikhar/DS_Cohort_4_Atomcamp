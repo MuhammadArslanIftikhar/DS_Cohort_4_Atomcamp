{
 "cells": [
  {
   "cell_type": "markdown",
   "metadata": {},
   "source": [
    "## **Python Assignment_02** \n",
    "### **Author: Muhammad Arslan Ifitikhar** \n",
    "\n",
    "#### Topic: Functions and their uses.\n",
    "1. **Question.#01** \n",
    " \n",
    "    You are creating a Python program to simulate a simple guessing game. The game will have the following rules:\n",
    "\t- This program will generate a random number `between 1 and 50` and store it in a variable called `secret_number.` For this, i will need to import randint() from the random library in python. \n",
    "\t- Then user will be given 5 attempts to guess the `secret_number.`\n",
    "\t- This program will use a while loop to repeatedly ask the user for their guess and provide feedback based on their input. (Remember that input() returns a string even if the user enters a number.) \n",
    "\t- Firstly, handled this case where the user enters a `non-numeric` input. For this, i will need to add a try/except block. If the entry is non-numeric, this conversion should fail and python will go to the except block. Under the except block, handle this error by printing `Invalid input! Please enter a valid number` and utilize the continue statement to allow the user to try again without reducing their remaining attempts.\n",
    "\t- If the user guesses the correct number, print `Congratulations! You guessed the secret number `secret_number` correctly!` and break out of the loop.\n",
    "\t- If the user's guess is too high, print `Try again! Your guess is too high. You have `attempts_left` attempts left.` where `attempts_left` is the number of remaining attempts.\n",
    "\t- If the user's guess is too low, print `Try again! Your guess is too low. You have `attempts_left` attempts left.`\n",
    "\t- If the user runs out of attempts, print `Game Over! The secret number was `secret_number. `Better luck next time!` and break out of the loop.\n"
   ]
  },
  {
   "cell_type": "code",
   "execution_count": 1,
   "metadata": {},
   "outputs": [
    {
     "name": "stdout",
     "output_type": "stream",
     "text": [
      "Invalid input! Please enter a valid number.\n",
      "Guess the secret number (between 1 and 50): 23\n",
      "\n",
      "Try again! Your guess is too low. You have 4 attempts left.\n",
      "Guess the secret number (between 1 and 50): 35\n",
      "\n",
      "Try again! Your guess is too high. You have 3 attempts left.\n",
      "Guess the secret number (between 1 and 50): 67\n",
      "\n",
      "Try again! Your guess is too high. You have 2 attempts left.\n",
      "Guess the secret number (between 1 and 50): 14\n",
      "\n",
      "Try again! Your guess is too low. You have 1 attempts left.\n",
      "Guess the secret number (between 1 and 50): 26\n",
      "\n",
      "Try again! Your guess is too low. You have 0 attempts left.\n",
      "Game Over! The secret number was 27. Better luck next time!\n"
     ]
    }
   ],
   "source": [
    "from random import randint\n",
    "\n",
    "secret_number = randint(1, 50)\n",
    "attempts_left = 5\n",
    "\n",
    "while attempts_left > 0:\n",
    "    try:\n",
    "        guess = int(input(\"Enter your guess: \"))\n",
    "    except ValueError:\n",
    "        print(\"Invalid input! Please enter a valid number.\")\n",
    "        continue\n",
    "    if guess == secret_number:\n",
    "        print(f\"Guess the secret number (between 1 and 50): {guess}\\n\")\n",
    "        print(f\"Congratulations! You guessed the secret number {secret_number} correctly!\")\n",
    "        break\n",
    "    elif guess > secret_number:\n",
    "        attempts_left -= 1\n",
    "        print(f\"Guess the secret number (between 1 and 50): {guess}\\n\")\n",
    "        print(f\"Try again! Your guess is too high. You have {attempts_left} attempts left.\")\n",
    "    else:\n",
    "        attempts_left -= 1\n",
    "        print(f\"Guess the secret number (between 1 and 50): {guess}\\n\")\n",
    "        print(f\"Try again! Your guess is too low. You have {attempts_left} attempts left.\")\n",
    "\n",
    "if attempts_left == 0:\n",
    "    print(f\"Game Over! The secret number was {secret_number}. Better luck next time!\")"
   ]
  },
  {
   "cell_type": "markdown",
   "metadata": {},
   "source": [
    "2. **Question.#02** \n",
    "    - a)\tWrite a function called num_vowels that takes in a string as an argument, and returns the number of vowels in that string. Print out the result for the string “Learning Python is fun and engaging.”\n"
   ]
  },
  {
   "cell_type": "code",
   "execution_count": 30,
   "metadata": {},
   "outputs": [
    {
     "name": "stdout",
     "output_type": "stream",
     "text": [
      "The number of vowels in your string are: 10\n"
     ]
    }
   ],
   "source": [
    "test_string = \"Learning Python is fun and engaging.\"\n",
    "\n",
    "def count_vowels(test_string):\n",
    "    vowels = \"aeiouAEIOU\"\n",
    "    count = 0\n",
    "    for char in test_string:\n",
    "        if char in vowels:\n",
    "            count += 1\n",
    "    return count\n",
    "\n",
    "count_of_vowels = count_vowels(test_string)\n",
    "print(f\"The number of vowels in your string are: {count_of_vowels}\")"
   ]
  },
  {
   "cell_type": "markdown",
   "metadata": {},
   "source": [
    "- b)\tCreate a function called hours_to_min that converts hours into minutes. The function should take the number of hours as input and return the equivalent number of minutes. Test the function with 2.5 hours and print the result."
   ]
  },
  {
   "cell_type": "code",
   "execution_count": 31,
   "metadata": {},
   "outputs": [
    {
     "name": "stdout",
     "output_type": "stream",
     "text": [
      "Total minutes int your hours are: 150.0\n"
     ]
    }
   ],
   "source": [
    "hours = 2.5\n",
    "\n",
    "def hours_to_minutes(hours):\n",
    "    minutes = hours * 60\n",
    "    return minutes\n",
    "\n",
    "counted_minutes = hours_to_minutes(hours)\n",
    "print(f\"Total minutes int your hours are: {counted_minutes}\")"
   ]
  },
  {
   "cell_type": "markdown",
   "metadata": {},
   "source": [
    "- c)\tWrite a python function that takes in a number as an argument, and prints out the table of that number up to 12 times that number. You may name this whatever you wish. \n"
   ]
  },
  {
   "cell_type": "code",
   "execution_count": 3,
   "metadata": {},
   "outputs": [
    {
     "name": "stdout",
     "output_type": "stream",
     "text": [
      "1    x  8   =  8\n",
      "2    x  8   =  16\n",
      "3    x  8   =  24\n",
      "4    x  8   =  32\n",
      "5    x  8   =  40\n",
      "6    x  8   =  48\n",
      "7    x  8   =  56\n",
      "8    x  8   =  64\n",
      "9    x  8   =  72\n",
      "10    x  8   =  80\n",
      "11    x  8   =  88\n",
      "12    x  8   =  96\n"
     ]
    }
   ],
   "source": [
    "number = int(input(\"Enter your number to whom you see a table: \"))\n",
    "\n",
    "def table_calculation(number):\n",
    "    for i in range(1, 13):\n",
    "        result = number * i\n",
    "        print(f\"{i}    x  {number}   =  {result}\")\n",
    "\n",
    "table_calculation(number)"
   ]
  },
  {
   "cell_type": "markdown",
   "metadata": {},
   "source": [
    "- d)\tIn your previous assignment, you wrote code that checks if a student is eligible for admission to a university. Turn that code into a function called eligibility. The function should take two arguments: the student's age and their previous GPA. The eligibility criteria are as follows:\n",
    "  - The student must be at least 18 years old.\n",
    "  - The student's previous GPA must be 3.0 or higher on a scale of 4.0.\n",
    "The function should return True if the student meets both criteria, otherwise, return False. Test the function with different ages and GPAs with and without keywords for example:\n",
    "eligibility(30, 3.2) [will depend on which order you provided the positional arguments in the definition]\n",
    "eligibility(GPA = 2.9, age = 40)\n"
   ]
  },
  {
   "cell_type": "code",
   "execution_count": 4,
   "metadata": {},
   "outputs": [
    {
     "name": "stdout",
     "output_type": "stream",
     "text": [
      "True\n",
      "False\n"
     ]
    }
   ],
   "source": [
    "\n",
    "# Use of if/else statements to chek some conditions.\n",
    "def eligibility(age, gpa):\n",
    "    if gpa <= 0 or gpa >= 4:\n",
    "        print(\"Your GPA is out of range. Please enter your correct GPA.\")\n",
    "        return\n",
    "    if age >= 18 and gpa >= 3:\n",
    "            return True\n",
    "    else:\n",
    "             return False\n",
    "\n",
    "# Testing the function with different ages and GPAs\n",
    "\n",
    "# Using positional arguments\n",
    "print(eligibility(30, 3.2))  # True\n",
    "\n",
    "# Using keyword arguments\n",
    "print(eligibility(age=40, gpa=2.9))  # False"
   ]
  }
 ],
 "metadata": {
  "kernelspec": {
   "display_name": "Python 3",
   "language": "python",
   "name": "python3"
  },
  "language_info": {
   "codemirror_mode": {
    "name": "ipython",
    "version": 3
   },
   "file_extension": ".py",
   "mimetype": "text/x-python",
   "name": "python",
   "nbconvert_exporter": "python",
   "pygments_lexer": "ipython3",
   "version": "3.11.5"
  }
 },
 "nbformat": 4,
 "nbformat_minor": 2
}
