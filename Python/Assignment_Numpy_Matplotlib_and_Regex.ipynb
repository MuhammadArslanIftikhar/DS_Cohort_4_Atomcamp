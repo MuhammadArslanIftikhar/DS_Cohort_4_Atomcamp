{
 "cells": [
  {
   "cell_type": "markdown",
   "id": "157d0647",
   "metadata": {},
   "source": [
    "#### The data set has COVID-19 fictional data from 3 planets: Tatooine, Naboo and Alderaan\n",
    "For each Planet there is information for: Daily Cases, Recoveries and Deaths in this order for 4 cities\n",
    "\n",
    "The dataset is created as lists below since file handling is not yet covered. Normally this sort of data is read into python from one or multiple files\n",
    "\n",
    "The objective of this excercise is to teach you slicing, aggregating, plotting data in a numpy array\n"
   ]
  },
  {
   "cell_type": "code",
   "execution_count": 1,
   "id": "035f0441",
   "metadata": {},
   "outputs": [],
   "source": [
    "import numpy as np\n",
    "import matplotlib.pyplot as plt\n",
    "import numpy as np\n",
    "import re"
   ]
  },
  {
   "cell_type": "code",
   "execution_count": 2,
   "id": "6f8d4e50",
   "metadata": {},
   "outputs": [],
   "source": [
    "# Tatooine Data (Planet 1)\n",
    "tatooine_data = [\n",
    "    # City 1\n",
    "    [100, 80, 5],\n",
    "    # City 2\n",
    "    [120, 90, 4],\n",
    "    #City 3\n",
    "    [110, 85, 6],\n",
    "    # City 4\n",
    "    [115, 88, 3],\n",
    "]\n",
    "\n",
    "# Naboo Data (Planet 2)\n",
    "naboo_data = [\n",
    "    [90, 70, 4], \n",
    "    [110, 85, 3], \n",
    "    [100, 80, 5], \n",
    "    [95, 75, 2]\n",
    "]\n",
    "\n",
    "\n",
    "# Alderaan Data (Planet 3)\n",
    "alderaan_data = [\n",
    "    [85, 65, 3], \n",
    "    [105, 80, 2], \n",
    "    [95, 75, 4], \n",
    "    [90, 70, 1]\n",
    "]"
   ]
  },
  {
   "cell_type": "markdown",
   "id": "646dbeee",
   "metadata": {},
   "source": [
    "Make one 3D numpy array from the data above that holds the data of all planets together. It should be in the order tatooine, naboo, alderaan\n",
    "\n",
    "What is the shape of this array?\n",
    "Explain what this means. [5 marks]"
   ]
  },
  {
   "cell_type": "code",
   "execution_count": 3,
   "id": "3b6db46b",
   "metadata": {},
   "outputs": [
    {
     "name": "stdout",
     "output_type": "stream",
     "text": [
      "The shape of np_array_3d is: (3, 4, 3)\n"
     ]
    },
    {
     "data": {
      "text/plain": [
       "array([[[100,  80,   5],\n",
       "        [120,  90,   4],\n",
       "        [110,  85,   6],\n",
       "        [115,  88,   3]],\n",
       "\n",
       "       [[ 90,  70,   4],\n",
       "        [110,  85,   3],\n",
       "        [100,  80,   5],\n",
       "        [ 95,  75,   2]],\n",
       "\n",
       "       [[ 85,  65,   3],\n",
       "        [105,  80,   2],\n",
       "        [ 95,  75,   4],\n",
       "        [ 90,  70,   1]]])"
      ]
     },
     "execution_count": 3,
     "metadata": {},
     "output_type": "execute_result"
    }
   ],
   "source": [
    "#add the data of all three planets here into a single array. it should be in the order tatooine, naboo, alderaan\n",
    "all_data = np.array([tatooine_data,naboo_data,alderaan_data])\n",
    "\n",
    "# Display the shape of the 3D array to confirm\n",
    "print(\"The shape of np_array_3d is:\", all_data.shape)\n",
    "all_data\n"
   ]
  },
  {
   "cell_type": "markdown",
   "id": "8fa64cc6",
   "metadata": {},
   "source": [
    "### Can you find out the planet with the highest number of deaths?"
   ]
  },
  {
   "cell_type": "markdown",
   "id": "9e41d02b",
   "metadata": {},
   "source": [
    "First, let us make an array of deathtolls. This array should be a 2-D array:\n",
    "- Each row represents one planet. \n",
    "- Each row will have 4 values(columns), one for the deathtoll of each city\n",
    "- Scroll up to the definition and see where exactly the number of deaths are stored. It is COLUMN at index 2 in each planet's data\n",
    "- __Extract this deathtoll column for each planet from the all_data array. You will have to use indexing for 3-D arrays here__ \n",
    "\n",
    "The indexing for tatooine has already been done for you: all_data[0, :, 2]. Tatooine data is index 0 in the outermost dimension, then we need all rows so we use : and the column index is 2. [5 marks]"
   ]
  },
  {
   "cell_type": "code",
   "execution_count": 5,
   "id": "44f89487",
   "metadata": {
    "scrolled": true
   },
   "outputs": [
    {
     "name": "stdout",
     "output_type": "stream",
     "text": [
      "[[5 4 6 3]\n",
      " [4 3 5 2]\n",
      " [3 2 4 1]]\n",
      "\n",
      "\n",
      "(3, 4)\n"
     ]
    }
   ],
   "source": [
    "# finding death data from given planets\n",
    "death_data = np.array([all_data[0,:,2],all_data[1,:,2] , all_data[2,:,2]]) \n",
    "print(death_data) # array of death data\n",
    "print(\"\\n\")\n",
    "print(death_data.shape) # shpae of death array"
   ]
  },
  {
   "cell_type": "markdown",
   "id": "7a4cf8a8",
   "metadata": {},
   "source": [
    "Now, using the death_data array and the aggregate function np.sum, sum up the deathtoll of each planet. Remember that each row in death_data represents a planet. Use the axis argument here inside np.sum <br>\n",
    "\n",
    "note: summing death_date along rows using np.sum will automatically return a numpy array of rowsums. You don't need to create an array using np.array [5 marks]"
   ]
  },
  {
   "cell_type": "code",
   "execution_count": 6,
   "id": "580a164c",
   "metadata": {},
   "outputs": [
    {
     "name": "stdout",
     "output_type": "stream",
     "text": [
      "[18 14 10]\n"
     ]
    }
   ],
   "source": [
    "# Summing the deaths for each planet\n",
    "total_deaths_per_planet = np.sum(death_data, axis=1)\n",
    "print(total_deaths_per_planet)"
   ]
  },
  {
   "cell_type": "markdown",
   "id": "15fb5bbd",
   "metadata": {},
   "source": [
    "First, simply find the highest death toll using np.max [5 marks]"
   ]
  },
  {
   "cell_type": "code",
   "execution_count": 7,
   "id": "db2b4391",
   "metadata": {},
   "outputs": [
    {
     "name": "stdout",
     "output_type": "stream",
     "text": [
      "Highest number of deaths: 18\n"
     ]
    }
   ],
   "source": [
    "# highest number of deaths\n",
    "most_deaths= np.max(total_deaths_per_planet)\n",
    "\n",
    "print(\"Highest number of deaths:\", most_deaths)"
   ]
  },
  {
   "cell_type": "markdown",
   "id": "33740c51",
   "metadata": {},
   "source": [
    "To just get the max no of deaths, you used the np.max function. But now, we don't just need the maximum number, we need the POSITION of that max as well in order to be able to tell which planet it corresponds to (recall that we compiled our data in the order tatooine, naboo and alderaan) \n",
    "\n",
    "- Instead of just max, we also need the INDEX of the max. For this, google the np.argmax() function\n",
    "- Once you have the index of the max, fetch the name from the list planet_names using that index\n",
    "\n",
    "[5 marks]"
   ]
  },
  {
   "cell_type": "code",
   "execution_count": 8,
   "id": "f48bb5f1",
   "metadata": {},
   "outputs": [
    {
     "name": "stdout",
     "output_type": "stream",
     "text": [
      "Planet with the most deaths: Tatooine\n"
     ]
    }
   ],
   "source": [
    "# finding the name of planets which have highest deaths by indexing.\n",
    "planet_names = [\"Tatooine\", \"Naboo\", \"Alderaan\"]\n",
    "\n",
    "index_of_most_deaths = np.argmax(total_deaths_per_planet)\n",
    "\n",
    "planet_with_most_deaths = planet_names[index_of_most_deaths]\n",
    "\n",
    "print(\"Planet with the most deaths:\", planet_with_most_deaths)"
   ]
  },
  {
   "cell_type": "markdown",
   "id": "fea2bdbb",
   "metadata": {},
   "source": [
    "Remember that our death_data array has the death data for all the cities for every planet. We have 12 cities in total. Use the death_data array to calculate the average deaths per city. [5 marks]"
   ]
  },
  {
   "cell_type": "code",
   "execution_count": 9,
   "id": "1d296fc7",
   "metadata": {},
   "outputs": [
    {
     "name": "stdout",
     "output_type": "stream",
     "text": [
      "Average deaths per city: 3.5\n",
      "Average deaths per city after converting to Integer: 4\n"
     ]
    }
   ],
   "source": [
    "# Calculating the average deaths per city\n",
    "average_deaths_per_city = np.mean(death_data, axis=(0, 1))\n",
    "\n",
    "print(\"Average deaths per city:\", average_deaths_per_city)\n",
    "print(\"Average deaths per city after converting to Integer:\",round(average_deaths_per_city))\n"
   ]
  },
  {
   "cell_type": "markdown",
   "id": "151baeb8",
   "metadata": {},
   "source": [
    "Now, create a bar chart of number of cases for each city on Tatooine.\n",
    "\n",
    "__Extract this data from the all_data array__. You will have to use 3d array indexing and remember that the data for tatooine is the data at index 0 in the outermost dimension of the all_data 3D array. Then from this, you need to extract the column for number of cases for all tatooine cities. [5 marks]"
   ]
  },
  {
   "cell_type": "code",
   "execution_count": 10,
   "id": "af77bd95",
   "metadata": {},
   "outputs": [
    {
     "data": {
      "text/plain": [
       "Text(0, 0.5, 'Number of Cases')"
      ]
     },
     "execution_count": 10,
     "metadata": {},
     "output_type": "execute_result"
    },
    {
     "data": {
      "image/png": "[encoded data removed]",
      "text/plain": [
       "<Figure size 640x480 with 1 Axes>"
      ]
     },
     "metadata": {},
     "output_type": "display_data"
    }
   ],
   "source": [
    "# Assuming np_array_3d is the 3D array you have created\n",
    "\n",
    "# Extracting the cases data for each city on Tatooine\n",
    "x_values = [\"city1\", \"city2\", \"city3\", \"city4\"]\n",
    "cases_tatooine = all_data[0, :, 0] #essentially column 0 from the tatooine array inside all_data\n",
    "\n",
    "\n",
    "# Creating the bar chart of x_values against cases_tatooine. add your arguments below:\n",
    "plt.figure()\n",
    "plt.bar(x_values,cases_tatooine)\n",
    "\n",
    "#add a title\n",
    "plt.title(\"Number of Cases for Each City on Tatooine\")\n",
    "\n",
    "#add labels for x and y axis\n",
    "plt.xlabel(\"City\")\n",
    "plt.ylabel(\"Number of Cases\")"
   ]
  },
  {
   "cell_type": "markdown",
   "id": "d2d5a9f1",
   "metadata": {},
   "source": [
    "Now try creating sub plots for each planet. Extract the cases data for each planet from the all_data array. x_values will be the same for each planet. [10 marks]"
   ]
  },
  {
   "cell_type": "code",
   "execution_count": 11,
   "id": "fb482957",
   "metadata": {},
   "outputs": [
    {
     "data": {
      "image/png": "[encoded data removed]",
      "text/plain": [
       "<Figure size 1000x400 with 3 Axes>"
      ]
     },
     "metadata": {},
     "output_type": "display_data"
    }
   ],
   "source": [
    "# Creating a figure with 3 subplots\n",
    "fig, (ax1, ax2, ax3) = plt.subplots(1,3,figsize = (10,4))  # add arguments to make subplots with 1 row, 3 columns\n",
    "\n",
    "x_values = [\"city1\", \"city2\", \"city3\", \"city4\"]\n",
    "\n",
    "cases_tatooine = all_data[0, :, 0]\n",
    "cases_naboo = all_data[1, :, 0]\n",
    "cases_alderaan = all_data[2, :, 0]\n",
    "\n",
    "\n",
    "\n",
    "# for tatooine\n",
    "ax1.bar(x_values,cases_tatooine)\n",
    "ax1.set_title(\"Tatooine\")\n",
    "ax1.set_xlabel(\"City\")\n",
    "ax1.set_ylabel(\"Number of cases\")\n",
    "ax1.set_ylim(0,130) #use the same ylim for each subplot so that all the y_axes are consistent across subplots\n",
    "\n",
    "\n",
    "# for naboo\n",
    "ax2.bar(x_values,cases_naboo)\n",
    "ax2.set_title(\"Naboo\")\n",
    "ax2.set_xlabel(\"City\")\n",
    "ax2.set_ylabel(\"Number of cases\")\n",
    "ax2.set_ylim(0,130)\n",
    "\n",
    "\n",
    "# for alderaan\n",
    "\n",
    "ax3.bar(x_values,cases_alderaan)\n",
    "ax3.set_title(\"Alderaan\")\n",
    "ax3.set_xlabel(\"City\")\n",
    "ax3.set_ylabel(\"Number of cases\")\n",
    "ax3.set_ylim(0,130)\n",
    "\n",
    "plt.tight_layout()\n",
    "plt.show()"
   ]
  },
  {
   "cell_type": "markdown",
   "id": "1139deb9",
   "metadata": {},
   "source": [
    "Please make scatter plot with X axis showing GDP per capita, Y axis showing life expectancy and the area of the bubble showing the size of population\n",
    "\n",
    "Please pay attention to:\n",
    "1. How to set bubble size based on parameter\n",
    "2. How to label the individual bubbles with the country names\n",
    "\n",
    "You can try googling or chat gpt if you are still unsure get in touch with TAs or the instructor [15 marks]"
   ]
  },
  {
   "cell_type": "code",
   "execution_count": 12,
   "id": "c891d5b5",
   "metadata": {},
   "outputs": [
    {
     "data": {
      "image/png": "[encoded data removed]",
      "text/plain": [
       "<Figure size 1200x600 with 1 Axes>"
      ]
     },
     "metadata": {},
     "output_type": "display_data"
    }
   ],
   "source": [
    "import matplotlib.pyplot as plt\n",
    "\n",
    "# Example data\n",
    "countries = ['Country A', 'Country B', 'Country C', 'Country D', 'Country E']\n",
    "gdp_per_capita = [40000, 30000, 20000, 50000, 10000]  # in USD\n",
    "life_expectancy = [80, 78, 75, 82, 70]  # in years\n",
    "population = [50, 30, 80, 40, 90]  # in millions\n",
    "\n",
    "# Bubble size - scaled to make the sizes reasonable for the plot\n",
    "# You may need to adjust the scaling factor depending on your data\n",
    "bubble_size = np.array(population) * 10\n",
    "\n",
    "# Creating the scatter plot\n",
    "plt.figure(figsize=(12, 6))\n",
    "scatter = plt.scatter(gdp_per_capita, life_expectancy, s=bubble_size, alpha=0.5)\n",
    "\n",
    "# Adding labels and title\n",
    "plt.xlabel('GDP per Capita (USD)')\n",
    "plt.ylabel('Life Expectancy (Years)')\n",
    "plt.title('Country Comparison: GDP, Life Expectancy, and Population')\n",
    "\n",
    "\n",
    "# Showing the plot\n",
    "plt.show()\n"
   ]
  },
  {
   "cell_type": "markdown",
   "id": "f5125f04",
   "metadata": {},
   "source": [
    "### RegEx\n",
    "\n",
    "Please make a regular expression to find all RGB Hex Codes in a blurb of text. Google the format of RGB Hex Code and make your rules and then build out the expression [10 marks]"
   ]
  },
  {
   "cell_type": "code",
   "execution_count": 13,
   "id": "6cd0f87f",
   "metadata": {},
   "outputs": [
    {
     "name": "stdout",
     "output_type": "stream",
     "text": [
      "#FF5733\n",
      "#33FF57\n",
      "#3357FF\n",
      "#0A0A0A\n",
      "#FAFAFA\n"
     ]
    }
   ],
   "source": [
    "test_text = \"\"\"\n",
    "In this design, the primary colors are #FF5733, #33FF57, and #3357FF. \n",
    "Make sure to also consider darker shades like #0A0A0A and lighter tones such as #FAFAFA.\n",
    "Invalid codes like #12345, #XYZ123, and #A1B2G3 should not be matched.\n",
    "\"\"\"\n",
    "\n",
    "student_regex = r'#[0-9A-Fa-f]{6}'\n",
    "\n",
    "# Find all matches\n",
    "matches = re.findall(student_regex,test_text) #add your arguments here \n",
    "\n",
    "# Displaying the matches\n",
    "for match in matches:\n",
    "    print(match)\n"
   ]
  },
  {
   "cell_type": "markdown",
   "id": "6a963f6d",
   "metadata": {},
   "source": [
    "__Recall capturing and non capturing groups when you do this question:__\n",
    "\n",
    "We want to extract time from the log_text without the AM/PM. However, we need to add regex code for AM/PM in our pattern so that when we pick up digits like 09:45, we know it is being followed by a space and then AM/PM to know for sure that the digits we picked are in fact time and not something else (like duration for example).  \n",
    "\n",
    "In the extracted match list, we just want the time without AM/PM, for e.g. the answer should be 09:45 and not 09:45 AM. But we still need to detect for AM/PM. Here, it would serve us well to put part of our pattern that we want into a capturing group and the part we don't want to see but still need to detect in a non-capturing group. [5 marks]"
   ]
  },
  {
   "cell_type": "code",
   "execution_count": 14,
   "id": "661559f5",
   "metadata": {},
   "outputs": [
    {
     "name": "stdout",
     "output_type": "stream",
     "text": [
      "09:45\n",
      "05:30\n",
      "11:15\n"
     ]
    }
   ],
   "source": [
    "log_text = \"\"\"\n",
    "Error reported at 09:45 PM, system failure.\n",
    "Warning issued at 05:30 AM, low battery.\n",
    "Duration of failure 00:30 s.\n",
    "Maintenance required at 11:15 AM, disk space full 25:32.\n",
    "\"\"\"\n",
    "\n",
    "pattern = r'(\\d{2}:\\d{2}) (?:AM|PM)'\n",
    "matches = re.findall(pattern, log_text)\n",
    "\n",
    "for match in matches:\n",
    "    print(match)"
   ]
  },
  {
   "cell_type": "markdown",
   "id": "2e14b504",
   "metadata": {},
   "source": [
    "Let us make a function that checks a string and returns True if the string has ONLY uppercase and lowercase alphabets, digits and spaces. If the string contains even a single character other than these, it returns False. \n",
    "\n",
    "Approach:\n",
    "- Construct a regex to detect a character other than uppercase and lowercase alphabets, digits and spaces\n",
    "- Use re.search to look for such a character inside your string. Recall that re.search stops after first match. You only need to use re.search for this instead of re.findall or re.finditer because you just need to detect a single disallowed character instead of detecting all of them.\n",
    "- Store the result from re.search inside a variable. If this variable is empty, our search did not find any disallowed character. If this variable contains a match, our search found a disallowed character. \n",
    "- You can apply the bool function to this variable like bool(variable). If the variable is empty, bool will give False. If it contains a match, it will give True. \n",
    "- Now your function needs to return the OPPOSITE or NEGATION of this boolean value i.e. True when search comes up empty and False when search finds a match to a disallowed character. \n",
    "\n",
    "[10 marks]"
   ]
  },
  {
   "cell_type": "code",
   "execution_count": 15,
   "id": "de86751c",
   "metadata": {},
   "outputs": [],
   "source": [
    "def string_check(string):\n",
    "    \n",
    "    pattern = r'[^a-zA-Z0-9 ]'\n",
    "    match = re.search(pattern,string) #add arguments here\n",
    "    match_bool = not bool(match) #add code to change match into boolean\n",
    "    \n",
    "    return match_bool #add your return here\n"
   ]
  },
  {
   "cell_type": "code",
   "execution_count": 16,
   "id": "24497133",
   "metadata": {},
   "outputs": [
    {
     "name": "stdout",
     "output_type": "stream",
     "text": [
      "True\n",
      "False\n",
      "False\n"
     ]
    }
   ],
   "source": [
    "print(string_check(\"I got a total of 80 marks in my Math exam\"))\n",
    "print(string_check(\"I scored 88% on my exam\"))\n",
    "print(string_check(\"I got a total of 80 marks in my exam.\"))"
   ]
  },
  {
   "cell_type": "markdown",
   "id": "f39f99b4",
   "metadata": {},
   "source": [
    "Our string here contains some messed up websites.\n",
    "- Detect all of these websites. \n",
    "- Put the part after the intial https:// in a separate group.\n",
    "- in each iteration over find_iter, print the whole match as well as the separate group after the :// part. \n",
    "\n",
    "for example, if the website is \n",
    "\n",
    "\"httpss://www.example88.com\"\n",
    "\n",
    "you need to print the following:\n",
    "\n",
    "httpss://www.example88.com <br>\n",
    "www.example88.com\n",
    "\n",
    "[10 marks]"
   ]
  },
  {
   "cell_type": "code",
   "execution_count": 19,
   "id": "12035c03",
   "metadata": {},
   "outputs": [
    {
     "name": "stdout",
     "output_type": "stream",
     "text": [
      "https://www.example.com\n",
      "www.example.com\n",
      "\n",
      "\n",
      "httpss://www.example88.com\n",
      "www.example88.com\n",
      "\n",
      "\n",
      "http://www.test-subjects.com\n",
      "www.test-subjects.com\n",
      "\n",
      "\n",
      "httpp://www.ghost_website.edu\n",
      "www.ghost_website.edu\n",
      "\n",
      "\n"
     ]
    }
   ],
   "source": [
    "string = \"\"\"\n",
    "<html>\n",
    "  <a href=\"https://www.example.com\">Visit Example</a>dsaf\n",
    "  <a href=\"httpss://www.example88.com\">Visit Example</a>\n",
    "  <a href=\"http://www.test-subjects.com\">Test Website</a>\n",
    "  <a href=\"httpp://www.ghost_website.edu\">Test Website</a>\n",
    "</html>\n",
    "\"\"\"\n",
    "\n",
    "pattern = r'http+s*://([^\"\\'>]+)' \n",
    "\n",
    "matches = re.finditer(pattern,string) #add arguments here\n",
    "\n",
    "\n",
    "for match in matches:\n",
    "    full_match = match.group(0)\n",
    "    print(full_match) #add code to print whole match\n",
    "    group_after_http = match.group(1)\n",
    "    print(group_after_http) #add code to print first group\n",
    "    print(\"\\n\") #this is just to print a newline after each iteration"
   ]
  }
 ],
 "metadata": {
  "kernelspec": {
   "display_name": "Python 3 (ipykernel)",
   "language": "python",
   "name": "python3"
  },
  "language_info": {
   "codemirror_mode": {
    "name": "ipython",
    "version": 3
   },
   "file_extension": ".py",
   "mimetype": "text/x-python",
   "name": "python",
   "nbconvert_exporter": "python",
   "pygments_lexer": "ipython3",
   "version": "3.11.5"
  }
 },
 "nbformat": 4,
 "nbformat_minor": 5
}
