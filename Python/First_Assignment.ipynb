{
 "cells": [
  {
   "cell_type": "markdown",
   "metadata": {},
   "source": [
    "## **Python First Assignment** \n",
    "### **Author: Muhammad Arslan Ifitikhar** \n",
    "\n",
    "#### Topic: Python's Basic Session\n",
    "#####  Task_01 Variables and Data Types\n",
    "1. **Question.#01** \n",
    "\n",
    "    - a)  Create three variables: one for storing your age (integer), one for your name (string), and one to check if you are a student (Boolean). Print the variables."
   ]
  },
  {
   "cell_type": "code",
   "execution_count": 67,
   "metadata": {},
   "outputs": [
    {
     "name": "stdout",
     "output_type": "stream",
     "text": [
      "Your name is Arslan. Your age is 25 years. Your student status is False\n"
     ]
    }
   ],
   "source": [
    "# Creating variables for storing values.\n",
    "your_age = 25\n",
    "your_name = 'Arslan'\n",
    "your_student_status = False\n",
    "print(f\"Your name is {your_name}. Your age is {your_age} years. Your student status is {your_student_status}\")"
   ]
  },
  {
   "cell_type": "markdown",
   "metadata": {},
   "source": [
    "- b) Perform the following operations and print the results:\n",
    "   - Add 25 to your age variable.\n",
    "   - Concatenate your name with the string \"Smith.\"\n",
    "   - Negate the Boolean variable (if True, make it False, and vice versa)."
   ]
  },
  {
   "cell_type": "code",
   "execution_count": 68,
   "metadata": {},
   "outputs": [
    {
     "name": "stdout",
     "output_type": "stream",
     "text": [
      "Your name is Arslan Smith. Your age is 50 years. Your student status is True\n"
     ]
    }
   ],
   "source": [
    "# Creating and variables and chek the status of student is valid or not.\n",
    "your_age += 25\n",
    "your_name += ' Smith'\n",
    "your_student_status = True\n",
    "print(f\"Your name is {your_name}. Your age is {your_age} years. Your student status is {your_student_status}\")"
   ]
  },
  {
   "cell_type": "markdown",
   "metadata": {},
   "source": [
    "##### Task_02 Expressions and Operators\n",
    "2. **Question.#02** \n",
    "\n",
    "    - a)  A rectangle has a width of 5.5 units and a height of 3.25 units. Store width and height in variables. Create a new variable called area and write an expression to calculate the area. Print the area in the output. "
   ]
  },
  {
   "cell_type": "code",
   "execution_count": 69,
   "metadata": {},
   "outputs": [
    {
     "name": "stdout",
     "output_type": "stream",
     "text": [
      "The area of your rectangle which have width of 5.5 and height of 3.25 is 17.875\n"
     ]
    }
   ],
   "source": [
    "# Creating variables and calculate area with the help of variables.\n",
    "width = 5.5\n",
    "height = 3.25\n",
    "area = width * height\n",
    "print(f\"The area of your rectangle which have width of {width} and height of {height} is {area}\")"
   ]
  },
  {
   "cell_type": "markdown",
   "metadata": {},
   "source": [
    "- b) Create a temperature variable in Celsius. Convert it to Fahrenheit using the formula: F = (C * 9/5) + 32. Store this temperature in a variable called Fahrenheit and print this variable."
   ]
  },
  {
   "cell_type": "code",
   "execution_count": 70,
   "metadata": {},
   "outputs": [
    {
     "name": "stdout",
     "output_type": "stream",
     "text": [
      "Your temperature in Celsius 30. After conversion in Foreign Height 86.0.\n"
     ]
    }
   ],
   "source": [
    "# Conversion of temperature from Celsius to Foreign Height.\n",
    "temperature_in_celsius = 30\n",
    "foreign_height_temp = temperature_in_celsius*9/5 + 32\n",
    "print(f\"Your temperature in Celsius {temperature_in_celsius}. After conversion in Foreign Height {foreign_height_temp}.\")"
   ]
  },
  {
   "cell_type": "markdown",
   "metadata": {},
   "source": [
    "- c) Create a variable called radius and give it a value of 5. Calculate the area of a circle with this radius and store it in a variable called area. Print area at the end of your code. (Use the formula: area = π * radius^2, where π (pi) is approximately 3.14159). "
   ]
  },
  {
   "cell_type": "code",
   "execution_count": 71,
   "metadata": {},
   "outputs": [
    {
     "name": "stdout",
     "output_type": "stream",
     "text": [
      "The area of your circle which have radius 5 is 78.53975\n"
     ]
    }
   ],
   "source": [
    "# Calculate the area of Circle.\n",
    "radius = 5\n",
    "area_of_circle = 3.14159 * radius**2\n",
    "print(f\"The area of your circle which have radius {radius} is {area_of_circle}\")"
   ]
  },
  {
   "cell_type": "markdown",
   "metadata": {},
   "source": [
    "##### Task_03 Introduction to Data Structures.\n",
    "3. **Question.#03** \n",
    "     - a) Create a list called \"fruits\" containing the following fruits: \"apple,\" \"banana,\" \"orange,\" \"grape,\" and \"kiwi.\" Print the list."
   ]
  },
  {
   "cell_type": "code",
   "execution_count": 72,
   "metadata": {},
   "outputs": [
    {
     "name": "stdout",
     "output_type": "stream",
     "text": [
      "Your List: ['apple', 'banana', 'orange', 'grape', 'kiwi']\n"
     ]
    }
   ],
   "source": [
    "# Creating a list whcih contains names of different fruits.\n",
    "list_of_fruits = ['apple','banana','orange','grape','kiwi']\n",
    "print(f\"Your List: {list_of_fruits}\")"
   ]
  },
  {
   "cell_type": "markdown",
   "metadata": {},
   "source": [
    "- b) Create a tuple named \"months\" with the names of the first three months of the year. Print the tuple."
   ]
  },
  {
   "cell_type": "code",
   "execution_count": 73,
   "metadata": {},
   "outputs": [
    {
     "data": {
      "text/plain": [
       "('January', 'February', 'March')"
      ]
     },
     "execution_count": 73,
     "metadata": {},
     "output_type": "execute_result"
    }
   ],
   "source": [
    "# Creating a tupple containing first 3 month of the year.\n",
    "months = ('January','February','March')\n",
    "months"
   ]
  },
  {
   "cell_type": "markdown",
   "metadata": {},
   "source": [
    "##### Task_04 List Manipulation\n",
    "4. **Question.#04** \n",
    "   - a) Given the list of numbers below, write a Python program to calculate the sum and average of these numbers. Print both results.\n",
    "   numbers = [12, 34, 45, 67, 89, 100, 23, 56]"
   ]
  },
  {
   "cell_type": "code",
   "execution_count": 74,
   "metadata": {},
   "outputs": [
    {
     "name": "stdout",
     "output_type": "stream",
     "text": [
      "The sum of your list is 426. And the average of your list is 53.25.\n"
     ]
    }
   ],
   "source": [
    "# Findig the average and sum of values of list.\n",
    "numbers = [12,34,45,67,89,100,23,56]\n",
    "sum_of_list = sum(numbers)\n",
    "\n",
    "avg_of_list = sum_of_list/len(numbers)\n",
    "print(f\"The sum of your list is {sum_of_list}. And the average of your list is {avg_of_list}.\")"
   ]
  },
  {
   "cell_type": "markdown",
   "metadata": {},
   "source": [
    "- b) Remove the first and last elements from the \"fruits\" list created earlier. Print the updated list."
   ]
  },
  {
   "cell_type": "code",
   "execution_count": 75,
   "metadata": {},
   "outputs": [
    {
     "name": "stdout",
     "output_type": "stream",
     "text": [
      "Your list  of Fruits ['apple', 'banana', 'orange', 'grape', 'kiwi']. \n",
      "After removing first and last element. ['banana', 'orange', 'grape']\n"
     ]
    }
   ],
   "source": [
    "# Removing the first and last item of the list.\n",
    "list_of_fruits_after_changes = list_of_fruits[1:-1]\n",
    "print(f\"Your list  of Fruits {list_of_fruits}. \\nAfter removing first and last element. {list_of_fruits_after_changes}\")"
   ]
  },
  {
   "cell_type": "markdown",
   "metadata": {},
   "source": [
    "#### But if you want to delete them permanently."
   ]
  },
  {
   "cell_type": "code",
   "execution_count": 76,
   "metadata": {},
   "outputs": [
    {
     "name": "stdout",
     "output_type": "stream",
     "text": [
      "New List after removing first and last value. ['banana', 'orange', 'grape']\n"
     ]
    }
   ],
   "source": [
    "# Deleting the first and last elements from list permanently.\n",
    "del list_of_fruits[0]\n",
    "list_of_fruits.pop()\n",
    "print(f\"New List after removing first and last value. {list_of_fruits}\")"
   ]
  },
  {
   "cell_type": "markdown",
   "metadata": {},
   "source": [
    "##### Task_05 Dictionary Operations\n",
    "5. **Question.#05** \n",
    "   - a) Create a dictionary named \"capitals\" with three key-value pairs: \"USA\" - \"Washington D.C.,\" \"France\" - \"Paris,\" and \"Japan\" - \"Tokyo.\" Print the dictionary."
   ]
  },
  {
   "cell_type": "code",
   "execution_count": 77,
   "metadata": {},
   "outputs": [
    {
     "name": "stdout",
     "output_type": "stream",
     "text": [
      "Your dictionary {'USA': 'Washington D.C.', 'France': 'Paris', 'Japan': 'Tokyo'}\n"
     ]
    }
   ],
   "source": [
    "# Creating a Dictionary\n",
    "capitals = {'USA':'Washington D.C.','France':'Paris','Japan':'Tokyo'}\n",
    "print(f\"Your dictionary {capitals}\")"
   ]
  },
  {
   "cell_type": "markdown",
   "metadata": {},
   "source": [
    "- b) Add a new country and its capital to the \"capitals\" dictionary. The country is \"Germany,\" and the capital is \"Berlin.\" Print the updated dictionary."
   ]
  },
  {
   "cell_type": "code",
   "execution_count": 78,
   "metadata": {},
   "outputs": [
    {
     "name": "stdout",
     "output_type": "stream",
     "text": [
      "Your Dictionary after adding Germany {'USA': 'Washington D.C.', 'France': 'Paris', 'Japan': 'Tokyo', 'Germany': 'Berlin'}\n"
     ]
    }
   ],
   "source": [
    "# Adding new element into Dictionary.\n",
    "capitals['Germany'] = 'Berlin'\n",
    "print(f\"Your Dictionary after adding Germany {capitals}\")"
   ]
  },
  {
   "cell_type": "markdown",
   "metadata": {},
   "source": [
    "- c) Check if \"France\" exists in the \"capitals\" dictionary. If it does, print \"France is in the dictionary,\" otherwise, print \"France is not in the dictionary.\" (at the end of the lab notebook for session 1, I have added an example of how to use “in” in python)."
   ]
  },
  {
   "cell_type": "code",
   "execution_count": 79,
   "metadata": {},
   "outputs": [
    {
     "name": "stdout",
     "output_type": "stream",
     "text": [
      "France is present in {'USA': 'Washington D.C.', 'France': 'Paris', 'Japan': 'Tokyo', 'Germany': 'Berlin'}\n"
     ]
    }
   ],
   "source": [
    "# Finding specific value from Dictionary through key.\n",
    "if 'France' in capitals:\n",
    "    print(f\"France is present in {capitals}\")\n",
    "else:\n",
    "    print(f\"France is not present in {capitals}\")"
   ]
  },
  {
   "cell_type": "markdown",
   "metadata": {},
   "source": [
    "#####  Task_06 Comparison Operators, Logical Operators and if/else:\n",
    "6. **Question.#06** \n",
    "    - a) Create a variable called number that takes user input (we studied the input() function). Next, write a block of code that checks if the number is even or odd (hint: modulo operator. Refer to lab notebook 1). "
   ]
  },
  {
   "cell_type": "code",
   "execution_count": 80,
   "metadata": {},
   "outputs": [
    {
     "name": "stdout",
     "output_type": "stream",
     "text": [
      "Your given number 5 is Odd.\n"
     ]
    }
   ],
   "source": [
    "# Finding Even or Odd from user defined number.\n",
    "number = int(input(\"Enter your number to chek if it is Even Or Odd.\"))\n",
    "if number % 2 == 0:\n",
    "    print(f\"Your given number {number} is Even.\")\n",
    "else:\n",
    "    print(f\"Your given number {number} is Odd.\")"
   ]
  },
  {
   "cell_type": "markdown",
   "metadata": {},
   "source": [
    "- b) Create two variables called age and GPA. Give them values of your choice. Next, write a block of code to check if a student with this age and GPA is eligible for admission. The following are the conditions:\n",
    "   - The student must be at least 18 years old.\n",
    "   - The student's GPA must be 3.0 or higher on a scale of 4.0.\n"
   ]
  },
  {
   "cell_type": "code",
   "execution_count": 81,
   "metadata": {},
   "outputs": [
    {
     "name": "stdout",
     "output_type": "stream",
     "text": [
      "Congrats! You are eligible for Admission.\n"
     ]
    }
   ],
   "source": [
    "# Use of if/else statements to chek some conditions.\n",
    "age = 25\n",
    "gpa = 3.0\n",
    "if gpa <= 4:\n",
    "    if age >= 18 and gpa >= 3:\n",
    "        print(\"Congrats! You are eligible for Admission.\")\n",
    "    else:\n",
    "        print(\"Sorry, You are not eligible for Admission.\")\n",
    "else:\n",
    "    print(\"Your GPA is out of range. Please enter within the range of 4.\")"
   ]
  },
  {
   "cell_type": "markdown",
   "metadata": {},
   "source": [
    "##### Task_07 Advanced Data Types\n",
    "7. **Question.#07** \n",
    "    - a) Create a set named \"fruits_set\" containing the following fruits: \"apple,\" \"banana,\" \"orange,\" \"grape,\" and \"kiwi.\" Print the set."
   ]
  },
  {
   "cell_type": "code",
   "execution_count": 82,
   "metadata": {},
   "outputs": [
    {
     "name": "stdout",
     "output_type": "stream",
     "text": [
      "Your Set: {'banana', 'grape', 'kiwi', 'apple', 'orange'}\n"
     ]
    },
    {
     "data": {
      "text/plain": [
       "set"
      ]
     },
     "execution_count": 82,
     "metadata": {},
     "output_type": "execute_result"
    }
   ],
   "source": [
    "# Creating and set.\n",
    "fruits_set = {'apple','banana','orange','grape','kiwi'}\n",
    "print(f\"Your Set: {fruits_set}\")\n",
    "type(fruits_set)"
   ]
  },
  {
   "cell_type": "markdown",
   "metadata": {},
   "source": [
    "- b) Given two sets:\n",
    "   set1 = {1, 2, 3, 4, 5}\n",
    "   set2 = {3, 4, 5, 6, 7}\n",
    "   Write Python code to perform the following operations and print the results:\n",
    "   - Union of set1 and set2."
   ]
  },
  {
   "cell_type": "code",
   "execution_count": 83,
   "metadata": {},
   "outputs": [
    {
     "name": "stdout",
     "output_type": "stream",
     "text": [
      "Union of your given two sets: {1, 2, 3, 4, 5, 6, 7}\n"
     ]
    }
   ],
   "source": [
    "# Union of two sets.\n",
    "set_01 = {1,2,3,4,5}\n",
    "set_02 = {3,4,5,6,7}\n",
    "union_of_sets = set_01.union(set_02)\n",
    "print(f\"Union of your given two sets: {union_of_sets}\")"
   ]
  },
  {
   "cell_type": "markdown",
   "metadata": {},
   "source": [
    "- Intersection of set1 and set2."
   ]
  },
  {
   "cell_type": "code",
   "execution_count": 84,
   "metadata": {},
   "outputs": [
    {
     "name": "stdout",
     "output_type": "stream",
     "text": [
      "Intersection of set1 and set2: {3, 4, 5}\n"
     ]
    }
   ],
   "source": [
    "# Intersection of two sets.\n",
    "intersection_of_sets = set_01.intersection(set_02)\n",
    "print(f\"Intersection of set1 and set2: {intersection_of_sets}\")"
   ]
  },
  {
   "cell_type": "markdown",
   "metadata": {},
   "source": [
    "- Difference between set1 and set2."
   ]
  },
  {
   "cell_type": "code",
   "execution_count": 85,
   "metadata": {},
   "outputs": [
    {
     "name": "stdout",
     "output_type": "stream",
     "text": [
      "Difference between set1 and set2: {1, 2}\n"
     ]
    }
   ],
   "source": [
    "# Difference of two sets.\n",
    "diff_of_sets = set_01.difference(set_02)\n",
    "print(f\"Difference between set1 and set2: {diff_of_sets}\")"
   ]
  },
  {
   "cell_type": "markdown",
   "metadata": {},
   "source": [
    "   - Check if set1 is a subset of set2."
   ]
  },
  {
   "cell_type": "code",
   "execution_count": 86,
   "metadata": {},
   "outputs": [
    {
     "name": "stdout",
     "output_type": "stream",
     "text": [
      "Set1 is a subset of Set2: False\n"
     ]
    }
   ],
   "source": [
    "# To chek if set1 is a subset of set2.\n",
    "subset_of_sets = set_01.issubset(set_02)\n",
    "print(f\"Set1 is a subset of Set2: {subset_of_sets}\")"
   ]
  },
  {
   "cell_type": "markdown",
   "metadata": {},
   "source": [
    "##### Task_08 Strings Manipulation\n",
    "8. **Question.#08**\n",
    "    - a) Create a string variable containing the following sentence:\n",
    "   \"Python programming is fun and powerful!\"\n",
    "    Write Python code to do the following and print the results:\n",
    "   - Find the length of the string.\n"
   ]
  },
  {
   "cell_type": "code",
   "execution_count": 87,
   "metadata": {},
   "outputs": [
    {
     "name": "stdout",
     "output_type": "stream",
     "text": [
      "The length of your string is: 40\n"
     ]
    }
   ],
   "source": [
    "# Creating a string variable and cheking it's length.\n",
    "string_var = 'Python programming is fun and powerfull!'\n",
    "\n",
    "# Length of string\n",
    "print(f\"The length of your string is: {len(string_var)}\")"
   ]
  },
  {
   "cell_type": "markdown",
   "metadata": {},
   "source": [
    "   - Convert the string to uppercase."
   ]
  },
  {
   "cell_type": "code",
   "execution_count": 88,
   "metadata": {},
   "outputs": [
    {
     "name": "stdout",
     "output_type": "stream",
     "text": [
      "Your string! Python programming is fun and powerfull! after converting to upper case!\n",
      "PYTHON PROGRAMMING IS FUN AND POWERFULL!\n"
     ]
    }
   ],
   "source": [
    "# Changes the string to upper case.\n",
    "print(f\"Your string! {string_var} after converting to upper case!\\n{string_var.upper()}\")"
   ]
  },
  {
   "cell_type": "markdown",
   "metadata": {},
   "source": [
    "- Replace \"fun\" with \"exciting.\""
   ]
  },
  {
   "cell_type": "code",
   "execution_count": 89,
   "metadata": {},
   "outputs": [
    {
     "name": "stdout",
     "output_type": "stream",
     "text": [
      "Your string! Python programming is fun and powerfull! after changed 'fun' with 'exciting'. \n",
      "New string! Python programming is exciting and powerfull!\n"
     ]
    }
   ],
   "source": [
    "# Use of replace function.\n",
    "print(f\"Your string! {string_var} after changed 'fun' with 'exciting'. \\nNew string! {string_var.replace('fun','exciting')}\")"
   ]
  },
  {
   "cell_type": "markdown",
   "metadata": {},
   "source": [
    "- Check if the string contains the word \"Python.\""
   ]
  },
  {
   "cell_type": "code",
   "execution_count": 90,
   "metadata": {},
   "outputs": [
    {
     "name": "stdout",
     "output_type": "stream",
     "text": [
      "The word Python found in the string: True\n"
     ]
    }
   ],
   "source": [
    "# Searching a specific word in string.\n",
    "contain_word = 'Python' in string_var\n",
    "print(f\"The word Python found in the string: {contain_word}\")"
   ]
  },
  {
   "cell_type": "markdown",
   "metadata": {},
   "source": [
    "- Split the string into a list of words."
   ]
  },
  {
   "cell_type": "code",
   "execution_count": 91,
   "metadata": {},
   "outputs": [
    {
     "name": "stdout",
     "output_type": "stream",
     "text": [
      "The List of your string: ['Python', 'programming', 'is', 'fun', 'and', 'powerfull!']\n"
     ]
    }
   ],
   "source": [
    "# Conversion of string into list.\n",
    "list_of_string = string_var.split()\n",
    "print(f\"The List of your string: {list_of_string}\")"
   ]
  }
 ],
 "metadata": {
  "kernelspec": {
   "display_name": "Python 3",
   "language": "python",
   "name": "python3"
  },
  "language_info": {
   "codemirror_mode": {
    "name": "ipython",
    "version": 3
   },
   "file_extension": ".py",
   "mimetype": "text/x-python",
   "name": "python",
   "nbconvert_exporter": "python",
   "pygments_lexer": "ipython3",
   "version": "3.11.5"
  }
 },
 "nbformat": 4,
 "nbformat_minor": 2
}
