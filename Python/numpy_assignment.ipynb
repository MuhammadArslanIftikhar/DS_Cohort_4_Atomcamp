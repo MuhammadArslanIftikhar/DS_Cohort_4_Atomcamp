{
 "cells": [
  {
   "cell_type": "markdown",
   "metadata": {},
   "source": [
    "## **NumPy First Assignment** \n",
    "### **Author: Muhammad Arslan Ifitikhar** \n",
    "\n",
    "### Topic: Array Creation\n",
    "1. **Question.#01** \n",
    "   - 1.\tCreate a numpy array of size 10, filled with zeros."
   ]
  },
  {
   "cell_type": "code",
   "execution_count": 2,
   "metadata": {},
   "outputs": [],
   "source": [
    "# import library first\n",
    "import numpy as np"
   ]
  },
  {
   "cell_type": "code",
   "execution_count": 3,
   "metadata": {},
   "outputs": [
    {
     "data": {
      "text/plain": [
       "array([0., 0., 0., 0., 0., 0., 0., 0., 0., 0.])"
      ]
     },
     "execution_count": 3,
     "metadata": {},
     "output_type": "execute_result"
    }
   ],
   "source": [
    "# creating array of size 10 with value 10 in it.\n",
    "array_zero = np.zeros(10)\n",
    "array_zero"
   ]
  },
  {
   "cell_type": "markdown",
   "metadata": {},
   "source": [
    "   - 2.\tCreate a numpy array with values ranging from 10 to 49 and set its datatype to float."
   ]
  },
  {
   "cell_type": "code",
   "execution_count": 4,
   "metadata": {},
   "outputs": [
    {
     "data": {
      "text/plain": [
       "array([10., 11., 12., 13., 14., 15., 16., 17., 18., 19., 20., 21., 22.,\n",
       "       23., 24., 25., 26., 27., 28., 29., 30., 31., 32., 33., 34., 35.,\n",
       "       36., 37., 38., 39., 40., 41., 42., 43., 44., 45., 46., 47., 48.,\n",
       "       49.])"
      ]
     },
     "execution_count": 4,
     "metadata": {},
     "output_type": "execute_result"
    }
   ],
   "source": [
    "# an array with value range from 10 to 49 and dtype of float.\n",
    "array_float = np.arange(10,50,dtype=float)\n",
    "array_float"
   ]
  },
  {
   "cell_type": "markdown",
   "metadata": {},
   "source": [
    "   - 3.\tCreate a numpy matrix of 2*2 integers, filled with ones."
   ]
  },
  {
   "cell_type": "code",
   "execution_count": 5,
   "metadata": {},
   "outputs": [
    {
     "data": {
      "text/plain": [
       "array([[1, 1],\n",
       "       [1, 1]])"
      ]
     },
     "execution_count": 5,
     "metadata": {},
     "output_type": "execute_result"
    }
   ],
   "source": [
    "# a numpy matrix of 2x2 integers.\n",
    "matrix_2x2 = np.ones((2,2),dtype=int)\n",
    "matrix_2x2"
   ]
  },
  {
   "cell_type": "markdown",
   "metadata": {},
   "source": [
    "   - 4.\tCreate a numpy matrix of 3*2 float numbers, filled with ones."
   ]
  },
  {
   "cell_type": "code",
   "execution_count": 6,
   "metadata": {},
   "outputs": [
    {
     "data": {
      "text/plain": [
       "array([[1., 1.],\n",
       "       [1., 1.],\n",
       "       [1., 1.]])"
      ]
     },
     "execution_count": 6,
     "metadata": {},
     "output_type": "execute_result"
    }
   ],
   "source": [
    "# a numpy matrix of 3x2 of float numbers.\n",
    "matrix_3x2 = np.ones((3,2),dtype=float)\n",
    "matrix_3x2"
   ]
  },
  {
   "cell_type": "markdown",
   "metadata": {},
   "source": [
    "   - 5.\tGiven the X numpy array, create a new numpy array with the same shape and type as X, filled with ones. "
   ]
  },
  {
   "cell_type": "code",
   "execution_count": 7,
   "metadata": {},
   "outputs": [
    {
     "data": {
      "text/plain": [
       "array([1, 1, 1])"
      ]
     },
     "execution_count": 7,
     "metadata": {},
     "output_type": "execute_result"
    }
   ],
   "source": [
    "# creating a new array as the shape of already exisiting array. \n",
    "X = np.array([1,2,3])\n",
    "ones_like_X = np.ones_like(X)\n",
    "ones_like_X"
   ]
  },
  {
   "cell_type": "markdown",
   "metadata": {},
   "source": [
    "- 6.\tGiven the X numpy matrix, create a new numpy matrix with the same shape and type as X, filled with zeros."
   ]
  },
  {
   "cell_type": "code",
   "execution_count": 8,
   "metadata": {},
   "outputs": [
    {
     "data": {
      "text/plain": [
       "array([[0, 0, 0],\n",
       "       [0, 0, 0]])"
      ]
     },
     "execution_count": 8,
     "metadata": {},
     "output_type": "execute_result"
    }
   ],
   "source": [
    "# creating a new matrix as the shape of already exisiting matrix. \n",
    "X = np.array([[1,2,3],[4,5,6]])\n",
    "ones_like_matrix_X = np.zeros_like(X)\n",
    "ones_like_matrix_X"
   ]
  },
  {
   "cell_type": "markdown",
   "metadata": {},
   "source": [
    "   - 7.\tCreate a numpy matrix of 4*4 integers, filled with fives."
   ]
  },
  {
   "cell_type": "code",
   "execution_count": 9,
   "metadata": {},
   "outputs": [
    {
     "data": {
      "text/plain": [
       "array([[5, 5, 5, 5],\n",
       "       [5, 5, 5, 5],\n",
       "       [5, 5, 5, 5],\n",
       "       [5, 5, 5, 5]])"
      ]
     },
     "execution_count": 9,
     "metadata": {},
     "output_type": "execute_result"
    }
   ],
   "source": [
    "# a matrix of 4x4 integers with value 5 in it.\n",
    "matrix_4x4 = np.full((4,4),5,dtype=int)\n",
    "matrix_4x4"
   ]
  },
  {
   "cell_type": "markdown",
   "metadata": {},
   "source": [
    "   - 8.\tGiven the X numpy matrix, create a new numpy matrix with the same shape and type as X, filled with sevens."
   ]
  },
  {
   "cell_type": "code",
   "execution_count": 10,
   "metadata": {},
   "outputs": [
    {
     "data": {
      "text/plain": [
       "array([[7, 7, 7],\n",
       "       [7, 7, 7]])"
      ]
     },
     "execution_count": 10,
     "metadata": {},
     "output_type": "execute_result"
    }
   ],
   "source": [
    "# a new matrix with the shape of already given matrix filled with seven.\n",
    "X = np.array([[1,2,3],[4,5,6]])\n",
    "matrix_updated = np.full_like(X,7)\n",
    "matrix_updated"
   ]
  },
  {
   "cell_type": "markdown",
   "metadata": {},
   "source": [
    "- 9.\tCreate a 3*3 identity numpy matrix with ones on the diagonal and zeros elsewhere."
   ]
  },
  {
   "cell_type": "code",
   "execution_count": 12,
   "metadata": {},
   "outputs": [
    {
     "data": {
      "text/plain": [
       "array([[1., 0., 0.],\n",
       "       [0., 1., 0.],\n",
       "       [0., 0., 1.]])"
      ]
     },
     "execution_count": 12,
     "metadata": {},
     "output_type": "execute_result"
    }
   ],
   "source": [
    "# a identity matrix of shape 3x3.\n",
    "idt_matrix = np.eye(3)\n",
    "idt_matrix"
   ]
  },
  {
   "cell_type": "markdown",
   "metadata": {},
   "source": [
    "- 10.\tCreate a numpy array, filled with 3 random integer values between 1 and 10."
   ]
  },
  {
   "cell_type": "code",
   "execution_count": 13,
   "metadata": {},
   "outputs": [
    {
     "data": {
      "text/plain": [
       "array([9, 5, 7])"
      ]
     },
     "execution_count": 13,
     "metadata": {},
     "output_type": "execute_result"
    }
   ],
   "source": [
    "# a random array between 1 and 10 of 3 random values.\n",
    "random_array = np.random.randint(1, 10, size=3)\n",
    "random_array"
   ]
  },
  {
   "cell_type": "markdown",
   "metadata": {},
   "source": [
    "- 11.\tCreate a 3x3x3 numpy matrix, filled with random float values."
   ]
  },
  {
   "cell_type": "code",
   "execution_count": 14,
   "metadata": {},
   "outputs": [
    {
     "data": {
      "text/plain": [
       "array([[[0.34603049, 0.1982701 , 0.91309665],\n",
       "        [0.23053318, 0.53192553, 0.72050508],\n",
       "        [0.33154219, 0.43749725, 0.44785959]],\n",
       "\n",
       "       [[0.65202531, 0.6935184 , 0.95694225],\n",
       "        [0.92292353, 0.77311951, 0.75634929],\n",
       "        [0.02453845, 0.13634965, 0.25060282]],\n",
       "\n",
       "       [[0.7601423 , 0.81008081, 0.4100993 ],\n",
       "        [0.48679397, 0.8115998 , 0.52386015],\n",
       "        [0.3974346 , 0.31760924, 0.82505047]]])"
      ]
     },
     "execution_count": 14,
     "metadata": {},
     "output_type": "execute_result"
    }
   ],
   "source": [
    "random_matrix = np.random.rand(3,3,3)\n",
    "random_matrix"
   ]
  },
  {
   "cell_type": "markdown",
   "metadata": {},
   "source": [
    "- 12.\tCreate a numpy array with numbers from 1 to 10."
   ]
  },
  {
   "cell_type": "code",
   "execution_count": 18,
   "metadata": {},
   "outputs": [
    {
     "data": {
      "text/plain": [
       "array([ 1,  2,  3,  4,  5,  6,  7,  8,  9, 10])"
      ]
     },
     "execution_count": 18,
     "metadata": {},
     "output_type": "execute_result"
    }
   ],
   "source": [
    "# an array with numbers from 1 to 10.\n",
    "numpy_array = np.arange(1,11)\n",
    "numpy_array"
   ]
  },
  {
   "cell_type": "markdown",
   "metadata": {},
   "source": [
    "- 13.\tCreate a numpy array with the odd numbers between 1 to 10."
   ]
  },
  {
   "cell_type": "code",
   "execution_count": 19,
   "metadata": {},
   "outputs": [
    {
     "data": {
      "text/plain": [
       "array([1, 3, 5, 7, 9])"
      ]
     },
     "execution_count": 19,
     "metadata": {},
     "output_type": "execute_result"
    }
   ],
   "source": [
    "# a numpy array of odd numbers from 1 to 10.\n",
    "odd_array = np.arange(1,11,2)\n",
    "odd_array"
   ]
  },
  {
   "cell_type": "markdown",
   "metadata": {},
   "source": [
    "- 14.\tCreate a numpy array with numbers from 1 to 10, in descending order."
   ]
  },
  {
   "cell_type": "code",
   "execution_count": 20,
   "metadata": {},
   "outputs": [
    {
     "data": {
      "text/plain": [
       "array([10,  9,  8,  7,  6,  5,  4,  3,  2,  1])"
      ]
     },
     "execution_count": 20,
     "metadata": {},
     "output_type": "execute_result"
    }
   ],
   "source": [
    "# an array from numbers 1 to 10 in descending order.\n",
    "desc_array = np.arange(10, 0, -1)\n",
    "desc_array"
   ]
  },
  {
   "cell_type": "markdown",
   "metadata": {},
   "source": [
    "- 15.\tCreate a 3*3 numpy matrix, filled with values ranging from 0 to 8."
   ]
  },
  {
   "cell_type": "code",
   "execution_count": 21,
   "metadata": {},
   "outputs": [
    {
     "data": {
      "text/plain": [
       "array([[0, 1, 2],\n",
       "       [3, 4, 5],\n",
       "       [6, 7, 8]])"
      ]
     },
     "execution_count": 21,
     "metadata": {},
     "output_type": "execute_result"
    }
   ],
   "source": [
    "# a numpy matrix of 3x3 with value range from 0 to 8.\n",
    "frist_array = np.arange(9)\n",
    "filled_matrix = frist_array.reshape(3, 3)\n",
    "filled_matrix"
   ]
  },
  {
   "cell_type": "markdown",
   "metadata": {},
   "source": [
    "### Topic: Array Indexing\n",
    "2. **Question.#02**\n",
    "   - 1.\tGiven the X numpy array, show its first element.\n",
    "X = np.array(['A','B','C','D','E']) "
   ]
  },
  {
   "cell_type": "code",
   "execution_count": 23,
   "metadata": {},
   "outputs": [
    {
     "data": {
      "text/plain": [
       "'A'"
      ]
     },
     "execution_count": 23,
     "metadata": {},
     "output_type": "execute_result"
    }
   ],
   "source": [
    "X = np.array(['A','B','C','D','E'])\n",
    "first_element = X[0]\n",
    "first_element"
   ]
  },
  {
   "cell_type": "markdown",
   "metadata": {},
   "source": [
    "- 2.\tGiven the X numpy array, show its last element. \n",
    "X = np.array(['A','B','C','D','E'])"
   ]
  },
  {
   "cell_type": "code",
   "execution_count": 24,
   "metadata": {},
   "outputs": [
    {
     "data": {
      "text/plain": [
       "'E'"
      ]
     },
     "execution_count": 24,
     "metadata": {},
     "output_type": "execute_result"
    }
   ],
   "source": [
    "X = np.array(['A','B','C','D','E'])\n",
    "last_element = X[-1]\n",
    "last_element"
   ]
  },
  {
   "cell_type": "markdown",
   "metadata": {},
   "source": [
    "3.\tGiven the X numpy array, show its first three elements. \n",
    "X = np.array(['A','B','C','D','E'])\n"
   ]
  },
  {
   "cell_type": "code",
   "execution_count": 25,
   "metadata": {},
   "outputs": [
    {
     "data": {
      "text/plain": [
       "array(['A', 'B', 'C'], dtype='<U1')"
      ]
     },
     "execution_count": 25,
     "metadata": {},
     "output_type": "execute_result"
    }
   ],
   "source": [
    "X = np.array(['A','B','C','D','E'])\n",
    "first_3_elements = X[:3]\n",
    "first_3_elements"
   ]
  },
  {
   "cell_type": "markdown",
   "metadata": {},
   "source": [
    "- 4.\tGiven the X numpy array, show all middle elements. \n",
    "X = np.array(['A','B','C','D','E'])\n"
   ]
  },
  {
   "cell_type": "code",
   "execution_count": 28,
   "metadata": {},
   "outputs": [
    {
     "data": {
      "text/plain": [
       "'C'"
      ]
     },
     "execution_count": 28,
     "metadata": {},
     "output_type": "execute_result"
    }
   ],
   "source": [
    "X = np.array(['A','B','C','D','E'])\n",
    "middle_element = len(X)//2\n",
    "X[middle_element]"
   ]
  },
  {
   "cell_type": "markdown",
   "metadata": {},
   "source": [
    "- 5.\tGiven the X numpy array, show the elements in reverse position. X = np.array(['A','B','C','D','E'])\n"
   ]
  },
  {
   "cell_type": "code",
   "execution_count": 30,
   "metadata": {},
   "outputs": [
    {
     "data": {
      "text/plain": [
       "array(['E', 'D', 'C', 'B', 'A'], dtype='<U1')"
      ]
     },
     "execution_count": 30,
     "metadata": {},
     "output_type": "execute_result"
    }
   ],
   "source": [
    "X = np.array(['A','B','C','D','E'])\n",
    "reverse_position = X[::-1]\n",
    "reverse_position"
   ]
  },
  {
   "cell_type": "markdown",
   "metadata": {},
   "source": [
    "- 6.\tGiven the X numpy array, show the elements in an odd position.\n",
    "X = np.array(['A','B','C','D','E'])"
   ]
  },
  {
   "cell_type": "code",
   "execution_count": 32,
   "metadata": {},
   "outputs": [
    {
     "data": {
      "text/plain": [
       "array(['B', 'D'], dtype='<U1')"
      ]
     },
     "execution_count": 32,
     "metadata": {},
     "output_type": "execute_result"
    }
   ],
   "source": [
    "X = np.array(['A','B','C','D','E'])\n",
    "odd_position = X[1::2]\n",
    "odd_position"
   ]
  },
  {
   "cell_type": "markdown",
   "metadata": {},
   "source": [
    "- 7.\tGiven the X numpy matrix, show the first row’s elements.\n",
    "\n",
    "X = np.array([\n",
    "    [1,   2,  3,  4],\n",
    "    [5,   6,  7,  8],\n",
    "    [9,  10, 11, 12],\n",
    "    [13, 14, 15, 16]\n",
    "])"
   ]
  },
  {
   "cell_type": "code",
   "execution_count": 36,
   "metadata": {},
   "outputs": [
    {
     "data": {
      "text/plain": [
       "array([1, 2, 3, 4])"
      ]
     },
     "execution_count": 36,
     "metadata": {},
     "output_type": "execute_result"
    }
   ],
   "source": [
    "X = np.array([\n",
    "    [1,   2,  3,  4],\n",
    "    [5,   6,  7,  8],\n",
    "    [9,  10, 11, 12],\n",
    "    [13, 14, 15, 16]\n",
    "])\n",
    "row_first = X[0]\n",
    "row_first"
   ]
  },
  {
   "cell_type": "markdown",
   "metadata": {},
   "source": [
    "- 8.\tGiven the X numpy matrix, show the last row elements. \n",
    "  \n",
    "X = np.array([\n",
    "    [1,   2,  3,  4],\n",
    "    [5,   6,  7,  8],\n",
    "    [9,  10, 11, 12],\n",
    "    [13, 14, 15, 16]\n",
    "])"
   ]
  },
  {
   "cell_type": "code",
   "execution_count": 37,
   "metadata": {},
   "outputs": [
    {
     "data": {
      "text/plain": [
       "array([13, 14, 15, 16])"
      ]
     },
     "execution_count": 37,
     "metadata": {},
     "output_type": "execute_result"
    }
   ],
   "source": [
    "X = np.array([\n",
    "    [1,   2,  3,  4],\n",
    "    [5,   6,  7,  8],\n",
    "    [9,  10, 11, 12],\n",
    "    [13, 14, 15, 16]\n",
    "])\n",
    "last_row = X[-1]\n",
    "last_row"
   ]
  },
  {
   "cell_type": "markdown",
   "metadata": {},
   "source": [
    "- 9.\tGiven the X numpy matrix, show the first element on first row\n",
    "\n",
    "X = np.array([\n",
    "    [1, 2, 3, 4],\n",
    "    [5, 6, 7, 8],\n",
    "    [9, 10, 11, 12],\n",
    "    [13, 14, 15, 16]\n",
    "])"
   ]
  },
  {
   "cell_type": "code",
   "execution_count": 38,
   "metadata": {},
   "outputs": [
    {
     "data": {
      "text/plain": [
       "1"
      ]
     },
     "execution_count": 38,
     "metadata": {},
     "output_type": "execute_result"
    }
   ],
   "source": [
    "X = np.array([\n",
    "    [1, 2, 3, 4],\n",
    "    [5, 6, 7, 8],\n",
    "    [9, 10, 11, 12],\n",
    "    [13, 14, 15, 16]\n",
    "])\n",
    "first_row_first_element = X[0,0]\n",
    "first_row_first_element"
   ]
  },
  {
   "cell_type": "markdown",
   "metadata": {},
   "source": [
    "- 10.\tGiven the X numpy matrix, show the last element on last row.\n",
    "\n",
    "X = np.array([\n",
    "    [1,   2,  3,  4],\n",
    "    [5,   6,  7,  8],\n",
    "    [9,  10, 11, 12],\n",
    "    [13, 14, 15, 16]\n",
    "])"
   ]
  },
  {
   "cell_type": "code",
   "execution_count": 39,
   "metadata": {},
   "outputs": [
    {
     "data": {
      "text/plain": [
       "16"
      ]
     },
     "execution_count": 39,
     "metadata": {},
     "output_type": "execute_result"
    }
   ],
   "source": [
    "X = np.array([\n",
    "    [1,   2,  3,  4],\n",
    "    [5,   6,  7,  8],\n",
    "    [9,  10, 11, 12],\n",
    "    [13, 14, 15, 16]\n",
    "])\n",
    "last_row_last_element = X[-1,-1]\n",
    "last_row_last_element"
   ]
  },
  {
   "cell_type": "markdown",
   "metadata": {},
   "source": [
    "- 11.\tGiven the X numpy matrix, show the first two elements on the first two rows.\n",
    "\n",
    "X = np.array([\n",
    "    [1,   2,  3,  4],\n",
    "    [5,   6,  7,  8],\n",
    "    [9,  10, 11, 12],\n",
    "    [13, 14, 15, 16]\n",
    "])"
   ]
  },
  {
   "cell_type": "code",
   "execution_count": 40,
   "metadata": {},
   "outputs": [
    {
     "data": {
      "text/plain": [
       "array([[1, 2],\n",
       "       [5, 6]])"
      ]
     },
     "execution_count": 40,
     "metadata": {},
     "output_type": "execute_result"
    }
   ],
   "source": [
    "X = np.array([\n",
    "    [1,   2,  3,  4],\n",
    "    [5,   6,  7,  8],\n",
    "    [9,  10, 11, 12],\n",
    "    [13, 14, 15, 16]\n",
    "])\n",
    "first_2_rows_2_elements = X[:2,:2]\n",
    "first_2_rows_2_elements"
   ]
  },
  {
   "cell_type": "markdown",
   "metadata": {},
   "source": [
    "- 12.\tGiven the X numpy matrix, show the last two elements on the last two rows\n",
    "\n",
    "X = np.array([\n",
    "    [1,   2,  3,  4],\n",
    "    [5,   6,  7,  8],\n",
    "    [9,  10, 11, 12],\n",
    "    [13, 14, 15, 16]\n",
    "])"
   ]
  },
  {
   "cell_type": "code",
   "execution_count": 43,
   "metadata": {},
   "outputs": [
    {
     "data": {
      "text/plain": [
       "array([[11, 12],\n",
       "       [15, 16]])"
      ]
     },
     "execution_count": 43,
     "metadata": {},
     "output_type": "execute_result"
    }
   ],
   "source": [
    "X = np.array([\n",
    "    [1,   2,  3,  4],\n",
    "    [5,   6,  7,  8],\n",
    "    [9,  10, 11, 12],\n",
    "    [13, 14, 15, 16]\n",
    "])\n",
    "last_2_rows_2_elements = X[-2:,-2:]\n",
    "last_2_rows_2_elements"
   ]
  },
  {
   "cell_type": "markdown",
   "metadata": {},
   "source": [
    "### Topic: Array Manipulation\n",
    "3. **Question.#03**\n",
    "   - 1.\tConvert the given integer numpy array to float (you need to google the function that will help you do this)\n",
    "\n",
    "X = [-5, -3, 0, 10, 40]"
   ]
  },
  {
   "cell_type": "code",
   "execution_count": 49,
   "metadata": {},
   "outputs": [
    {
     "name": "stdout",
     "output_type": "stream",
     "text": [
      "[-5. -3.  0. 10. 40.]\n"
     ]
    },
    {
     "data": {
      "text/plain": [
       "dtype('float64')"
      ]
     },
     "execution_count": 49,
     "metadata": {},
     "output_type": "execute_result"
    }
   ],
   "source": [
    "X = np.array([-5, -3, 0, 10, 40])\n",
    "float_array = X.astype(float)\n",
    "print(float_array)\n",
    "float_array.dtype"
   ]
  },
  {
   "cell_type": "markdown",
   "metadata": {},
   "source": [
    "- 2.\tReverse the given numpy array (first element becomes last) through indexing. \n",
    "X = [-5, -3, 0, 10, 40]"
   ]
  },
  {
   "cell_type": "code",
   "execution_count": 51,
   "metadata": {},
   "outputs": [
    {
     "data": {
      "text/plain": [
       "array([40, 10,  0, -3, -5])"
      ]
     },
     "execution_count": 51,
     "metadata": {},
     "output_type": "execute_result"
    }
   ],
   "source": [
    "X = np.array([-5, -3, 0, 10, 40])\n",
    "reversed_array = X[::-1]\n",
    "reversed_array"
   ]
  },
  {
   "cell_type": "markdown",
   "metadata": {},
   "source": [
    "- 3.\tGiven the X numpy array, set the fifth element equal to 1. \n",
    "X = np.zeros(10)"
   ]
  },
  {
   "cell_type": "code",
   "execution_count": 53,
   "metadata": {},
   "outputs": [
    {
     "data": {
      "text/plain": [
       "array([0., 0., 0., 0., 1., 0., 0., 0., 0., 0.])"
      ]
     },
     "execution_count": 53,
     "metadata": {},
     "output_type": "execute_result"
    }
   ],
   "source": [
    "X = np.zeros(10)\n",
    "X[4] = 1\n",
    "X"
   ]
  },
  {
   "cell_type": "markdown",
   "metadata": {},
   "source": [
    "- 4.\tGiven the X numpy matrix, change the last row with all 1\n",
    "\n",
    "X = np.array([\n",
    "    [1,   2,  3,  4],\n",
    "    [5,   6,  7,  8],\n",
    "    [9,  10, 11, 12],\n",
    "    [13, 14, 15, 16]\n",
    "])"
   ]
  },
  {
   "cell_type": "code",
   "execution_count": 54,
   "metadata": {},
   "outputs": [
    {
     "data": {
      "text/plain": [
       "array([[ 1,  2,  3,  4],\n",
       "       [ 5,  6,  7,  8],\n",
       "       [ 9, 10, 11, 12],\n",
       "       [ 1,  1,  1,  1]])"
      ]
     },
     "execution_count": 54,
     "metadata": {},
     "output_type": "execute_result"
    }
   ],
   "source": [
    "X = np.array([\n",
    "    [1,   2,  3,  4],\n",
    "    [5,   6,  7,  8],\n",
    "    [9,  10, 11, 12],\n",
    "    [13, 14, 15, 16]\n",
    "])\n",
    "X[-1] = 1\n",
    "X"
   ]
  },
  {
   "cell_type": "markdown",
   "metadata": {},
   "source": [
    "- 5.\tGiven the X numpy matrix, add 5 to every element\n",
    "\n",
    "X = np.array([\n",
    "    [1,   2,  3,  4],\n",
    "    [5,   6,  7,  8],\n",
    "    [9,  10, 11, 12],\n",
    "    [13, 14, 15, 16]\n",
    "])"
   ]
  },
  {
   "cell_type": "code",
   "execution_count": 55,
   "metadata": {},
   "outputs": [
    {
     "data": {
      "text/plain": [
       "array([[ 6,  7,  8,  9],\n",
       "       [10, 11, 12, 13],\n",
       "       [14, 15, 16, 17],\n",
       "       [18, 19, 20, 21]])"
      ]
     },
     "execution_count": 55,
     "metadata": {},
     "output_type": "execute_result"
    }
   ],
   "source": [
    "X = np.array([\n",
    "    [1,   2,  3,  4],\n",
    "    [5,   6,  7,  8],\n",
    "    [9,  10, 11, 12],\n",
    "    [13, 14, 15, 16]\n",
    "])\n",
    "X+=5\n",
    "X"
   ]
  }
 ],
 "metadata": {
  "kernelspec": {
   "display_name": "Python 3",
   "language": "python",
   "name": "python3"
  },
  "language_info": {
   "codemirror_mode": {
    "name": "ipython",
    "version": 3
   },
   "file_extension": ".py",
   "mimetype": "text/x-python",
   "name": "python",
   "nbconvert_exporter": "python",
   "pygments_lexer": "ipython3",
   "version": "3.11.5"
  }
 },
 "nbformat": 4,
 "nbformat_minor": 2
}
